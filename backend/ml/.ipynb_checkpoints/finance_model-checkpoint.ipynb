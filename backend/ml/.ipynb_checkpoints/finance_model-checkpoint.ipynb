{
 "cells": [
  {
   "cell_type": "code",
   "execution_count": 1,
   "id": "6372b876-bafe-46a4-ac81-4fa1689fad96",
   "metadata": {},
   "outputs": [],
   "source": [
    "from datasets import load_dataset\n",
    "import pandas as pd"
   ]
  },
  {
   "cell_type": "code",
   "execution_count": 2,
   "id": "1b4f2436-b3da-4ab5-a484-14c8ecfbfa92",
   "metadata": {},
   "outputs": [
    {
     "data": {
      "application/vnd.jupyter.widget-view+json": {
       "model_id": "62814170251345baa67b41e0a53870d8",
       "version_major": 2,
       "version_minor": 0
      },
      "text/plain": [
       "README.md:   0%|          | 0.00/24.0 [00:00<?, ?B/s]"
      ]
     },
     "metadata": {},
     "output_type": "display_data"
    },
    {
     "name": "stderr",
     "output_type": "stream",
     "text": [
      "C:\\Users\\spand_4ckp2h9\\OneDrive\\Documents\\personal-finance-tracker\\backend\\venv\\lib\\site-packages\\huggingface_hub\\file_download.py:143: UserWarning: `huggingface_hub` cache-system uses symlinks by default to efficiently store duplicated files but your machine does not support them in C:\\Users\\spand_4ckp2h9\\.cache\\huggingface\\hub\\datasets--kandisravya--expenses. Caching files will still work but in a degraded version that might require more space on your disk. This warning can be disabled by setting the `HF_HUB_DISABLE_SYMLINKS_WARNING` environment variable. For more details, see https://huggingface.co/docs/huggingface_hub/how-to-cache#limitations.\n",
      "To support symlinks on Windows, you either need to activate Developer Mode or to run Python as an administrator. In order to activate developer mode, see this article: https://docs.microsoft.com/en-us/windows/apps/get-started/enable-your-device-for-development\n",
      "  warnings.warn(message)\n"
     ]
    },
    {
     "data": {
      "application/vnd.jupyter.widget-view+json": {
       "model_id": "2346f305e8494c36aeeffc7f55cded7f",
       "version_major": 2,
       "version_minor": 0
      },
      "text/plain": [
       "synthetic_income_expense_data.csv: 0.00B [00:00, ?B/s]"
      ]
     },
     "metadata": {},
     "output_type": "display_data"
    },
    {
     "data": {
      "application/vnd.jupyter.widget-view+json": {
       "model_id": "9a78682a732b443389b8bd61dc367d57",
       "version_major": 2,
       "version_minor": 0
      },
      "text/plain": [
       "Generating train split:   0%|          | 0/552 [00:00<?, ? examples/s]"
      ]
     },
     "metadata": {},
     "output_type": "display_data"
    }
   ],
   "source": [
    "dataset = load_dataset(\"kandisravya/expenses\")"
   ]
  },
  {
   "cell_type": "code",
   "execution_count": 3,
   "id": "a90020e6-304e-4fd7-8a90-47f7a6828066",
   "metadata": {},
   "outputs": [],
   "source": [
    "df = pd.DataFrame(dataset['train'])"
   ]
  },
  {
   "cell_type": "code",
   "execution_count": 4,
   "id": "d5ccc74e-53ae-4435-9e26-a1702fac615e",
   "metadata": {},
   "outputs": [
    {
     "name": "stdout",
     "output_type": "stream",
     "text": [
      "         Date             Category    Subcategory           Description  \\\n",
      "0  2024-01-01  Savings/Investments     Retirement   401(k) contribution   \n",
      "1  2024-01-01                 Food     Dining Out  Dinner at McDonald's   \n",
      "2  2024-01-01       Transportation           Fuel   Gas station fill-up   \n",
      "3  2024-01-02           Healthcare  Doctor Visits   Dentist appointment   \n",
      "4  2024-01-02        Miscellaneous         Travel         Hotel booking   \n",
      "\n",
      "   Amount    Income  \n",
      "0   95.69  16246.26  \n",
      "1  200.00  19142.03  \n",
      "2  148.39  92054.33  \n",
      "3  260.31   7418.27  \n",
      "4  257.96  52220.08  \n"
     ]
    }
   ],
   "source": [
    "print(df.head())"
   ]
  },
  {
   "cell_type": "code",
   "execution_count": 5,
   "id": "3693c192-9a0c-4232-9345-f147b3507902",
   "metadata": {},
   "outputs": [],
   "source": [
    "df = df.drop(columns=[\"Subcategory\", \"Income\"])"
   ]
  },
  {
   "cell_type": "code",
   "execution_count": 6,
   "id": "781ffda5-2c8c-405e-933a-bce73bab5076",
   "metadata": {},
   "outputs": [
    {
     "name": "stdout",
     "output_type": "stream",
     "text": [
      "Date           0\n",
      "Category       0\n",
      "Description    0\n",
      "Amount         0\n",
      "dtype: int64\n"
     ]
    }
   ],
   "source": [
    "print(df.isnull().sum())"
   ]
  },
  {
   "cell_type": "code",
   "execution_count": 7,
   "id": "eff6a686-3423-44f6-82d1-0c8c543da930",
   "metadata": {},
   "outputs": [],
   "source": [
    "df[\"Description\"] = df[\"Description\"].str.lower().str.strip()"
   ]
  },
  {
   "cell_type": "code",
   "execution_count": 8,
   "id": "ccc951a0-4b3c-47f8-9173-392e601ba0b0",
   "metadata": {},
   "outputs": [],
   "source": [
    "df[\"Category\"] = df[\"Category\"].str.strip()"
   ]
  },
  {
   "cell_type": "code",
   "execution_count": 9,
   "id": "95ef3a28-1627-412c-a140-9c7cd67ac276",
   "metadata": {},
   "outputs": [],
   "source": [
    "df[\"Date\"] = pd.to_datetime(df[\"Date\"])\n",
    "\n",
    "df[\"DayOfWeek\"] = df[\"Date\"].dt.day_name()\n",
    "df[\"Month\"] = df[\"Date\"].dt.month_name()\n",
    "\n",
    "df = df.drop(columns=[\"Date\"])"
   ]
  },
  {
   "cell_type": "code",
   "execution_count": 10,
   "id": "80cb4e92-8146-486d-8e79-5c7b933eb4d8",
   "metadata": {},
   "outputs": [
    {
     "name": "stdout",
     "output_type": "stream",
     "text": [
      "Unique Categories: ['Savings/Investments' 'Food' 'Transportation' 'Healthcare'\n",
      " 'Miscellaneous' 'Housing' 'Entertainment' 'Income' 'Shopping' 'Personal'\n",
      " 'Debt Payments' 'Education']\n",
      "Number of Categories: 12\n"
     ]
    }
   ],
   "source": [
    "print(\"Unique Categories:\", df[\"Category\"].unique())\n",
    "print(\"Number of Categories:\", df[\"Category\"].nunique())"
   ]
  },
  {
   "cell_type": "code",
   "execution_count": 11,
   "id": "3b3e4fcc-ba71-4fe0-8ca7-0354485be3b3",
   "metadata": {},
   "outputs": [],
   "source": [
    "df = df[df[\"Category\"] != \"Income\"]"
   ]
  },
  {
   "cell_type": "code",
   "execution_count": 12,
   "id": "45302e3a-054e-49a3-a893-3b5ce9b41b93",
   "metadata": {},
   "outputs": [
    {
     "data": {
      "text/html": [
       "<div>\n",
       "<style scoped>\n",
       "    .dataframe tbody tr th:only-of-type {\n",
       "        vertical-align: middle;\n",
       "    }\n",
       "\n",
       "    .dataframe tbody tr th {\n",
       "        vertical-align: top;\n",
       "    }\n",
       "\n",
       "    .dataframe thead th {\n",
       "        text-align: right;\n",
       "    }\n",
       "</style>\n",
       "<table border=\"1\" class=\"dataframe\">\n",
       "  <thead>\n",
       "    <tr style=\"text-align: right;\">\n",
       "      <th></th>\n",
       "      <th>Category</th>\n",
       "      <th>Description</th>\n",
       "      <th>Amount</th>\n",
       "      <th>DayOfWeek</th>\n",
       "      <th>Month</th>\n",
       "    </tr>\n",
       "  </thead>\n",
       "  <tbody>\n",
       "    <tr>\n",
       "      <th>0</th>\n",
       "      <td>Savings/Investments</td>\n",
       "      <td>401(k) contribution</td>\n",
       "      <td>95.69</td>\n",
       "      <td>Monday</td>\n",
       "      <td>January</td>\n",
       "    </tr>\n",
       "    <tr>\n",
       "      <th>1</th>\n",
       "      <td>Food</td>\n",
       "      <td>dinner at mcdonald's</td>\n",
       "      <td>200.00</td>\n",
       "      <td>Monday</td>\n",
       "      <td>January</td>\n",
       "    </tr>\n",
       "    <tr>\n",
       "      <th>2</th>\n",
       "      <td>Transportation</td>\n",
       "      <td>gas station fill-up</td>\n",
       "      <td>148.39</td>\n",
       "      <td>Monday</td>\n",
       "      <td>January</td>\n",
       "    </tr>\n",
       "    <tr>\n",
       "      <th>3</th>\n",
       "      <td>Healthcare</td>\n",
       "      <td>dentist appointment</td>\n",
       "      <td>260.31</td>\n",
       "      <td>Tuesday</td>\n",
       "      <td>January</td>\n",
       "    </tr>\n",
       "    <tr>\n",
       "      <th>4</th>\n",
       "      <td>Miscellaneous</td>\n",
       "      <td>hotel booking</td>\n",
       "      <td>257.96</td>\n",
       "      <td>Tuesday</td>\n",
       "      <td>January</td>\n",
       "    </tr>\n",
       "  </tbody>\n",
       "</table>\n",
       "</div>"
      ],
      "text/plain": [
       "              Category           Description  Amount DayOfWeek    Month\n",
       "0  Savings/Investments   401(k) contribution   95.69    Monday  January\n",
       "1                 Food  dinner at mcdonald's  200.00    Monday  January\n",
       "2       Transportation   gas station fill-up  148.39    Monday  January\n",
       "3           Healthcare   dentist appointment  260.31   Tuesday  January\n",
       "4        Miscellaneous         hotel booking  257.96   Tuesday  January"
      ]
     },
     "execution_count": 12,
     "metadata": {},
     "output_type": "execute_result"
    }
   ],
   "source": [
    "df.head()"
   ]
  },
  {
   "cell_type": "code",
   "execution_count": 13,
   "id": "ef07dbc9-f2e1-45dc-aa35-eb1c98470f36",
   "metadata": {},
   "outputs": [],
   "source": [
    "df.to_csv(\"transactions.csv\", index=False)"
   ]
  },
  {
   "cell_type": "code",
   "execution_count": null,
   "id": "c39ebac5-1632-414d-8a15-c4c5b53c2446",
   "metadata": {},
   "outputs": [],
   "source": []
  }
 ],
 "metadata": {
  "kernelspec": {
   "display_name": "Python 3 (ipykernel)",
   "language": "python",
   "name": "python3"
  },
  "language_info": {
   "codemirror_mode": {
    "name": "ipython",
    "version": 3
   },
   "file_extension": ".py",
   "mimetype": "text/x-python",
   "name": "python",
   "nbconvert_exporter": "python",
   "pygments_lexer": "ipython3",
   "version": "3.10.10"
  }
 },
 "nbformat": 4,
 "nbformat_minor": 5
}
